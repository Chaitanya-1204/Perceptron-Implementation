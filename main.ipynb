{
 "cells": [
  {
   "cell_type": "code",
   "execution_count": 4,
   "metadata": {},
   "outputs": [],
   "source": [
    "import math \n",
    "import numpy as np\n",
    "import pandas as pd\n",
    "import matplotlib.pyplot as plt\n",
    "\n",
    "import joblib\n",
    "from matplotlib.colors import ListedColormap\n"
   ]
  },
  {
   "cell_type": "code",
   "execution_count": null,
   "metadata": {},
   "outputs": [],
   "source": [
    "\n",
    "class Perceptron:\n",
    "    \n",
    "    def __init__(self , epochs , eta):\n",
    "        \n",
    "        self.weights = np.random.randn(3) * 1e-4  # Two for the inputs and one weight for the bias\n",
    "        print(f\"Initial Weights before Training : {self.weights}\")\n",
    "        \n",
    "        self.epochs = epochs \n",
    "        self.eta = eta \n",
    "        \n",
    "        \n",
    "    def activationFunction(self , inputs , weigths):\n",
    "        \n",
    "        z = np.dot(inputs , weights) # Z = W * X\n",
    "        return np.where(z > 0 , 1 , 0)\n",
    "    \n",
    "    \n",
    "\n",
    "    def fit(self , X , Y):\n",
    "        self.X = X \n",
    "        self.Y = Y\n",
    "        \n",
    "        X_with_bias = np.c_[self.X , -np.ones(len(self.X) , 1)] # Appending dataset with a column of -1 so that we dont need a separate variable for bias it can be handled with weights only.\n",
    "        \n",
    "        for epoch in range(self.epochs):\n",
    "            \n",
    "            print(\"--\" * 10)\n",
    "            print(f\"For Epoch {epoch}\")\n",
    "            \n",
    "            print(\"--\" * 10)\n",
    "            \n",
    "            y_hat = self.activationFunction(X_with_bias , self.weights)\n",
    "            \n",
    "            self.error = self.y - y_hat\n",
    "            \n",
    "            self.weights = self.weights + self.eta * np.dot(X_with_bias.T , self.error)\n",
    "            \n",
    "            \n",
    "                    \n",
    "\n",
    "    def predict(self , X):\n",
    "        pass\n",
    "    \n",
    "    def total_loss(self):\n",
    "        pass\n",
    "        "
   ]
  }
 ],
 "metadata": {
  "kernelspec": {
   "display_name": "base",
   "language": "python",
   "name": "python3"
  },
  "language_info": {
   "codemirror_mode": {
    "name": "ipython",
    "version": 3
   },
   "file_extension": ".py",
   "mimetype": "text/x-python",
   "name": "python",
   "nbconvert_exporter": "python",
   "pygments_lexer": "ipython3",
   "version": "3.12.4"
  }
 },
 "nbformat": 4,
 "nbformat_minor": 2
}
